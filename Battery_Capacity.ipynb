{
  "nbformat": 4,
  "nbformat_minor": 0,
  "metadata": {
    "colab": {
      "name": "Battery Capacity.ipynb",
      "provenance": [],
      "authorship_tag": "ABX9TyPq8xQnQFH5mKKeQq2rjSSd",
      "include_colab_link": true
    },
    "kernelspec": {
      "name": "python3",
      "display_name": "Python 3"
    },
    "language_info": {
      "name": "python"
    }
  },
  "cells": [
    {
      "cell_type": "markdown",
      "metadata": {
        "id": "view-in-github",
        "colab_type": "text"
      },
      "source": [
        "<a href=\"https://colab.research.google.com/github/thegrouch4413/Predictive-Analysis/blob/main/Battery_Capacity.ipynb\" target=\"_parent\"><img src=\"https://colab.research.google.com/assets/colab-badge.svg\" alt=\"Open In Colab\"/></a>"
      ]
    },
    {
      "cell_type": "markdown",
      "source": [
        "# Polynomial Model Fitting\n",
        "\n",
        "Sometimes, you might not have a lot of data in order to train a sophisticated model. If you are working with continuous numerical data, you might be able to fit a curve, or a polynomial to your data in order to make more accurate predictions.\n",
        "\n",
        "In this example, we will predict battery capacity given the voltage on the battery terminals. Terminal voltage is not linear, so we can try and fit a polynomial to a set of known data in order to make predictions."
      ],
      "metadata": {
        "id": "xNhPyUbglcMW"
      }
    },
    {
      "cell_type": "markdown",
      "source": [
        "#Libraries"
      ],
      "metadata": {
        "id": "-2aQ0_EXnnvm"
      }
    },
    {
      "cell_type": "code",
      "source": [
        "import numpy as np\n",
        "import pandas as pd\n",
        "import matplotlib.pyplot as plt\n",
        "import seaborn as sns\n",
        "sns.set()"
      ],
      "metadata": {
        "id": "BRiAHDBQnnyF"
      },
      "execution_count": 1,
      "outputs": []
    },
    {
      "cell_type": "markdown",
      "source": [
        "# Data\n",
        "\n",
        "\n",
        "This data was collected from this [website](https://en.wikipedia.org/wiki/Alkaline_battery). You can also digitize images from a publication using [WebPlotDigitizer](https://automeris.io/WebPlotDigitizer/)."
      ],
      "metadata": {
        "id": "f5ibgn9dnn2O"
      }
    },
    {
      "cell_type": "code",
      "source": [
        "capacity = [100 - x*10 for x in range(11)]\n",
        "voltage = [1.59, 1.44, 1.38, 1.34, 1.32, 1.30, 1.28, 1.26, 1.23, 1.20, 1.10]\n",
        "voltage"
      ],
      "metadata": {
        "colab": {
          "base_uri": "https://localhost:8080/"
        },
        "id": "uNal1fbvnn4t",
        "outputId": "927c61bc-792a-49f5-c65c-7fd8189ca0bd"
      },
      "execution_count": 2,
      "outputs": [
        {
          "output_type": "execute_result",
          "data": {
            "text/plain": [
              "[1.59, 1.44, 1.38, 1.34, 1.32, 1.3, 1.28, 1.26, 1.23, 1.2, 1.1]"
            ]
          },
          "metadata": {},
          "execution_count": 2
        }
      ]
    },
    {
      "cell_type": "markdown",
      "source": [
        "#EDA"
      ],
      "metadata": {
        "id": "CEt3CVSlnn7H"
      }
    },
    {
      "cell_type": "code",
      "source": [
        "plt.plot(capacity, voltage)  # Piecewise #\n",
        "plt.title('Voltage vs. Capacity')\n",
        "plt.xlabel('Capacity (%)')\n",
        "plt.ylabel('Voltage (V)')"
      ],
      "metadata": {
        "colab": {
          "base_uri": "https://localhost:8080/",
          "height": 320
        },
        "id": "utrzKdydnn9e",
        "outputId": "d788e153-8dba-42d5-c7e9-4cc9be9da2a1"
      },
      "execution_count": 3,
      "outputs": [
        {
          "output_type": "execute_result",
          "data": {
            "text/plain": [
              "Text(0, 0.5, 'Voltage (V)')"
            ]
          },
          "metadata": {},
          "execution_count": 3
        },
        {
          "output_type": "display_data",
          "data": {
            "text/plain": [
              "<Figure size 432x288 with 1 Axes>"
            ],
            "image/png": "[encoded data removed]"
          },
          "metadata": {
            "needs_background": "light"
          }
        }
      ]
    },
    {
      "cell_type": "markdown",
      "source": [
        "# Polynomial Curve Model Fitting\n",
        "\n",
        "Numpy has a convenient method to [fit](https://numpy.org/doc/stable/reference/generated/numpy.polyfit.html) and [evaluate](https://numpy.org/doc/stable/reference/generated/numpy.poly1d.html) a polynomial."
      ],
      "metadata": {
        "id": "12pQjdJUnoHm"
      }
    },
    {
      "cell_type": "code",
      "source": [
        "model = np.poly1d(np.polyfit(capacity, voltage, 7))"
      ],
      "metadata": {
        "id": "Bsjbz2gqogu2"
      },
      "execution_count": 4,
      "outputs": []
    },
    {
      "cell_type": "code",
      "source": [
        "x = np.arange(0, 100, 0.1) # Smooth Curve #\n",
        "y = model(x)\n",
        "plt.plot(capacity, voltage)\n",
        "plt.plot(x, y)\n",
        "plt.title('Voltage vs. Capacity')\n",
        "plt.xlabel('Capacity (%)')\n",
        "plt.ylabel('Voltage (V)')"
      ],
      "metadata": {
        "colab": {
          "base_uri": "https://localhost:8080/",
          "height": 320
        },
        "id": "iugQ5Hseogq-",
        "outputId": "4dde8ab5-af45-4845-f104-c1c7c2176b55"
      },
      "execution_count": 5,
      "outputs": [
        {
          "output_type": "execute_result",
          "data": {
            "text/plain": [
              "Text(0, 0.5, 'Voltage (V)')"
            ]
          },
          "metadata": {},
          "execution_count": 5
        },
        {
          "output_type": "display_data",
          "data": {
            "text/plain": [
              "<Figure size 432x288 with 1 Axes>"
            ],
            "image/png": "[encoded data removed]"
          },
          "metadata": {
            "needs_background": "light"
          }
        }
      ]
    },
    {
      "cell_type": "markdown",
      "source": [
        "# Measure Accuracy\n",
        "\n",
        "Estimate accuracy using [mean squared error](https://en.wikipedia.org/wiki/Mean_squared_error)."
      ],
      "metadata": {
        "id": "FgEl7oE5ogoh"
      }
    },
    {
      "cell_type": "code",
      "source": [
        "mse = np.sum((model(capacity) - voltage)**2)\n",
        "mse"
      ],
      "metadata": {
        "colab": {
          "base_uri": "https://localhost:8080/"
        },
        "id": "8PtaWD-rogmI",
        "outputId": "a6fde429-e0bf-4b47-aee8-8ffe545093da"
      },
      "execution_count": 6,
      "outputs": [
        {
          "output_type": "execute_result",
          "data": {
            "text/plain": [
              "2.199917729329643e-05"
            ]
          },
          "metadata": {},
          "execution_count": 6
        }
      ]
    },
    {
      "cell_type": "markdown",
      "source": [
        "# Predictions\n",
        "\n",
        "Predict battery capacity by looking for the capacity closest to the measured battery voltage."
      ],
      "metadata": {
        "id": "1g3ngM05qHTa"
      }
    },
    {
      "cell_type": "code",
      "source": [
        "def tcapacity(vmeasure):\n",
        "  for i in np.arange(0, 100, 0.1): # start stop step #\n",
        "    if model(i) >= vmeasure:\n",
        "      return i"
      ],
      "metadata": {
        "id": "lRWy8xVwqHQn"
      },
      "execution_count": 10,
      "outputs": []
    },
    {
      "cell_type": "code",
      "source": [
        "tcapacity(1.5)"
      ],
      "metadata": {
        "colab": {
          "base_uri": "https://localhost:8080/"
        },
        "id": "FThlTceuqHOW",
        "outputId": "ad5206b6-62cc-4282-fc05-7df8b55c64a5"
      },
      "execution_count": 11,
      "outputs": [
        {
          "output_type": "execute_result",
          "data": {
            "text/plain": [
              "95.30000000000001"
            ]
          },
          "metadata": {},
          "execution_count": 11
        }
      ]
    },
    {
      "cell_type": "code",
      "source": [
        ""
      ],
      "metadata": {
        "id": "ln3YcGyzqHMP"
      },
      "execution_count": null,
      "outputs": []
    },
    {
      "cell_type": "code",
      "source": [
        ""
      ],
      "metadata": {
        "id": "jSrU2SsQqHJx"
      },
      "execution_count": null,
      "outputs": []
    },
    {
      "cell_type": "code",
      "source": [
        ""
      ],
      "metadata": {
        "id": "lZzGSq_-qHEn"
      },
      "execution_count": null,
      "outputs": []
    },
    {
      "cell_type": "code",
      "source": [
        ""
      ],
      "metadata": {
        "id": "hHW5BoJcogje"
      },
      "execution_count": null,
      "outputs": []
    },
    {
      "cell_type": "code",
      "source": [
        ""
      ],
      "metadata": {
        "id": "ZyivBFxxogcx"
      },
      "execution_count": null,
      "outputs": []
    },
    {
      "cell_type": "code",
      "source": [
        ""
      ],
      "metadata": {
        "id": "Asiw61LBogaO"
      },
      "execution_count": null,
      "outputs": []
    },
    {
      "cell_type": "code",
      "source": [
        ""
      ],
      "metadata": {
        "id": "xQYdsY9togYX"
      },
      "execution_count": null,
      "outputs": []
    }
  ]
}