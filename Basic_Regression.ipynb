{
  "nbformat": 4,
  "nbformat_minor": 0,
  "metadata": {
    "colab": {
      "name": "Basic Regression.ipynb",
      "provenance": [],
      "authorship_tag": "ABX9TyPQKfWUF0cX6+yK8WZsFeCK",
      "include_colab_link": true
    },
    "kernelspec": {
      "name": "python3",
      "display_name": "Python 3"
    },
    "language_info": {
      "name": "python"
    }
  },
  "cells": [
    {
      "cell_type": "markdown",
      "metadata": {
        "id": "view-in-github",
        "colab_type": "text"
      },
      "source": [
        "<a href=\"https://colab.research.google.com/github/thegrouch4413/Predictive-Analysis/blob/main/Basic_Regression.ipynb\" target=\"_parent\"><img src=\"https://colab.research.google.com/assets/colab-badge.svg\" alt=\"Open In Colab\"/></a>"
      ]
    },
    {
      "cell_type": "markdown",
      "source": [
        "# Regression Analysis\n",
        "Regression analysis refers to the use of statistical methods to estimate the relationships between one or more independent variables and dependent variables.\n",
        "\n",
        "Regression is a powerful tool as it is used to assess the strength of the relationship between two or more variables, and then it would be used for modeling the relationship between those variables in the future.\n",
        "\n",
        "source"
      ],
      "metadata": {
        "id": "niJMgKAZZC6n"
      }
    },
    {
      "cell_type": "markdown",
      "source": [
        "#Building a basic regression model.\n",
        "\n",
        "We know that a Linear regression is a way to model the relationship between two variables. We will use the equation as the slope formula. The equation has the form:\n",
        "\n",
        "Y=α+βX \n",
        "where Y is the dependent variable (that’s the variable on the vertical or Y axis).\n",
        "\n",
        "X is the independent variable (i.e. it is plotted on the Horizontal or X axis).\n",
        "\n",
        "b is the slope of the line and a is the y-intercept."
      ],
      "metadata": {
        "id": "pbLWZdLdrfAe"
      }
    },
    {
      "cell_type": "markdown",
      "source": [
        "# Import the Libraries"
      ],
      "metadata": {
        "id": "rX9613Kgtde0"
      }
    },
    {
      "cell_type": "code",
      "source": [
        "import pandas as pd  #https://pythonistaplanet.com/pandas/#:~:text=Pandas%20is%20a%20Python%20library%20that%20is%20used,sure%20you%20have%20numpy%20installed%20in%20your%20system.#\n",
        "import numpy as np   #https://numpy.org/doc/stable/user/whatisnumpy.html#\n",
        "import math \n",
        "import statsmodels.formula.api as smf #https://www.statsmodels.org/stable/api.html#\n",
        "from sklearn.linear_model import LinearRegression #https://datagy.io/python-sklearn-linear-regression/#\n",
        "from matplotlib import pyplot as plt #https://www.activestate.com/resources/quick-reads/what-is-matplotlib-in-python-how-to-use-it-for-plotting/#\n",
        "import seaborn as sns #https://seaborn.pydata.org/#:~:text=Seaborn%20is%20a%20Python%20data%20visualization%20library%20based,can%20read%20the%20introductory%20notes%20or%20the%20paper.\n",
        "sns.set()"
      ],
      "metadata": {
        "id": "Ugpeu3WBtoOK"
      },
      "execution_count": 25,
      "outputs": []
    },
    {
      "cell_type": "markdown",
      "source": [
        "## To construct our analysis, first, lets generate some 'random' data"
      ],
      "metadata": {
        "id": "y3cR3_rWuIb1"
      }
    },
    {
      "cell_type": "code",
      "source": [
        "np.random.seed(10)\n",
        "X = 2.5 * np.random.randn(1000) + 1.5   # Array of 100 values with mean = 1.5, stddev = 2.5\n",
        "res = 0.5 * np.random.randn(1000)       # Generate 100 residual terms\n",
        "y = 2 + 0.3 * X + res                   # Actual values of Y"
      ],
      "metadata": {
        "id": "hx2uLUnxuU6H"
      },
      "execution_count": 2,
      "outputs": []
    },
    {
      "cell_type": "markdown",
      "source": [
        "#Now, let's creat a pandas dataframe to store our x and y **values**"
      ],
      "metadata": {
        "id": "Ihn3rOfrvW9e"
      }
    },
    {
      "cell_type": "code",
      "source": [
        "df = pd.DataFrame({'X': X,'y': y})"
      ],
      "metadata": {
        "id": "gg3-nMhnvg7i"
      },
      "execution_count": 3,
      "outputs": []
    },
    {
      "cell_type": "code",
      "source": [
        "df.head()"
      ],
      "metadata": {
        "colab": {
          "base_uri": "https://localhost:8080/",
          "height": 206
        },
        "id": "EcWPd-V4vwxt",
        "outputId": "0cc7c872-8588-4374-e305-ad910c664a19"
      },
      "execution_count": 4,
      "outputs": [
        {
          "output_type": "execute_result",
          "data": {
            "text/plain": [
              "          X         y\n",
              "0  4.828966  4.205316\n",
              "1  3.288197  2.915292\n",
              "2 -2.363501  1.221240\n",
              "3  1.479040  3.031466\n",
              "4  3.053340  3.507896"
            ],
            "text/html": [
              "\n",
              "  <div id=\"df-aba942e9-7ca2-4cd2-a672-3915bf350608\">\n",
              "    <div class=\"colab-df-container\">\n",
              "      <div>\n",
              "<style scoped>\n",
              "    .dataframe tbody tr th:only-of-type {\n",
              "        vertical-align: middle;\n",
              "    }\n",
              "\n",
              "    .dataframe tbody tr th {\n",
              "        vertical-align: top;\n",
              "    }\n",
              "\n",
              "    .dataframe thead th {\n",
              "        text-align: right;\n",
              "    }\n",
              "</style>\n",
              "<table border=\"1\" class=\"dataframe\">\n",
              "  <thead>\n",
              "    <tr style=\"text-align: right;\">\n",
              "      <th></th>\n",
              "      <th>X</th>\n",
              "      <th>y</th>\n",
              "    </tr>\n",
              "  </thead>\n",
              "  <tbody>\n",
              "    <tr>\n",
              "      <th>0</th>\n",
              "      <td>4.828966</td>\n",
              "      <td>4.205316</td>\n",
              "    </tr>\n",
              "    <tr>\n",
              "      <th>1</th>\n",
              "      <td>3.288197</td>\n",
              "      <td>2.915292</td>\n",
              "    </tr>\n",
              "    <tr>\n",
              "      <th>2</th>\n",
              "      <td>-2.363501</td>\n",
              "      <td>1.221240</td>\n",
              "    </tr>\n",
              "    <tr>\n",
              "      <th>3</th>\n",
              "      <td>1.479040</td>\n",
              "      <td>3.031466</td>\n",
              "    </tr>\n",
              "    <tr>\n",
              "      <th>4</th>\n",
              "      <td>3.053340</td>\n",
              "      <td>3.507896</td>\n",
              "    </tr>\n",
              "  </tbody>\n",
              "</table>\n",
              "</div>\n",
              "      <button class=\"colab-df-convert\" onclick=\"convertToInteractive('df-aba942e9-7ca2-4cd2-a672-3915bf350608')\"\n",
              "              title=\"Convert this dataframe to an interactive table.\"\n",
              "              style=\"display:none;\">\n",
              "        \n",
              "  <svg xmlns=\"http://www.w3.org/2000/svg\" height=\"24px\"viewBox=\"0 0 24 24\"\n",
              "       width=\"24px\">\n",
              "    <path d=\"M0 0h24v24H0V0z\" fill=\"none\"/>\n",
              "    <path d=\"M18.56 5.44l.94 2.06.94-2.06 2.06-.94-2.06-.94-.94-2.06-.94 2.06-2.06.94zm-11 1L8.5 8.5l.94-2.06 2.06-.94-2.06-.94L8.5 2.5l-.94 2.06-2.06.94zm10 10l.94 2.06.94-2.06 2.06-.94-2.06-.94-.94-2.06-.94 2.06-2.06.94z\"/><path d=\"M17.41 7.96l-1.37-1.37c-.4-.4-.92-.59-1.43-.59-.52 0-1.04.2-1.43.59L10.3 9.45l-7.72 7.72c-.78.78-.78 2.05 0 2.83L4 21.41c.39.39.9.59 1.41.59.51 0 1.02-.2 1.41-.59l7.78-7.78 2.81-2.81c.8-.78.8-2.07 0-2.86zM5.41 20L4 18.59l7.72-7.72 1.47 1.35L5.41 20z\"/>\n",
              "  </svg>\n",
              "      </button>\n",
              "      \n",
              "  <style>\n",
              "    .colab-df-container {\n",
              "      display:flex;\n",
              "      flex-wrap:wrap;\n",
              "      gap: 12px;\n",
              "    }\n",
              "\n",
              "    .colab-df-convert {\n",
              "      background-color: #E8F0FE;\n",
              "      border: none;\n",
              "      border-radius: 50%;\n",
              "      cursor: pointer;\n",
              "      display: none;\n",
              "      fill: #1967D2;\n",
              "      height: 32px;\n",
              "      padding: 0 0 0 0;\n",
              "      width: 32px;\n",
              "    }\n",
              "\n",
              "    .colab-df-convert:hover {\n",
              "      background-color: #E2EBFA;\n",
              "      box-shadow: 0px 1px 2px rgba(60, 64, 67, 0.3), 0px 1px 3px 1px rgba(60, 64, 67, 0.15);\n",
              "      fill: #174EA6;\n",
              "    }\n",
              "\n",
              "    [theme=dark] .colab-df-convert {\n",
              "      background-color: #3B4455;\n",
              "      fill: #D2E3FC;\n",
              "    }\n",
              "\n",
              "    [theme=dark] .colab-df-convert:hover {\n",
              "      background-color: #434B5C;\n",
              "      box-shadow: 0px 1px 3px 1px rgba(0, 0, 0, 0.15);\n",
              "      filter: drop-shadow(0px 1px 2px rgba(0, 0, 0, 0.3));\n",
              "      fill: #FFFFFF;\n",
              "    }\n",
              "  </style>\n",
              "\n",
              "      <script>\n",
              "        const buttonEl =\n",
              "          document.querySelector('#df-aba942e9-7ca2-4cd2-a672-3915bf350608 button.colab-df-convert');\n",
              "        buttonEl.style.display =\n",
              "          google.colab.kernel.accessAllowed ? 'block' : 'none';\n",
              "\n",
              "        async function convertToInteractive(key) {\n",
              "          const element = document.querySelector('#df-aba942e9-7ca2-4cd2-a672-3915bf350608');\n",
              "          const dataTable =\n",
              "            await google.colab.kernel.invokeFunction('convertToInteractive',\n",
              "                                                     [key], {});\n",
              "          if (!dataTable) return;\n",
              "\n",
              "          const docLinkHtml = 'Like what you see? Visit the ' +\n",
              "            '<a target=\"_blank\" href=https://colab.research.google.com/notebooks/data_table.ipynb>data table notebook</a>'\n",
              "            + ' to learn more about interactive tables.';\n",
              "          element.innerHTML = '';\n",
              "          dataTable['output_type'] = 'display_data';\n",
              "          await google.colab.output.renderOutput(dataTable, element);\n",
              "          const docLink = document.createElement('div');\n",
              "          docLink.innerHTML = docLinkHtml;\n",
              "          element.appendChild(docLink);\n",
              "        }\n",
              "      </script>\n",
              "    </div>\n",
              "  </div>\n",
              "  "
            ]
          },
          "metadata": {},
          "execution_count": 4
        }
      ]
    },
    {
      "cell_type": "markdown",
      "source": [
        "## Next, we want to calculate the mean of X and the mean y\n",
        "*The mean of an array refers to the sum of array elements divided by the number of elements.*"
      ],
      "metadata": {
        "id": "dG8E3FtswDrY"
      }
    },
    {
      "cell_type": "code",
      "source": [
        "xmean = np.mean(X)\n",
        "ymean = np.mean(y)"
      ],
      "metadata": {
        "id": "T42u9pLrwFuf"
      },
      "execution_count": 5,
      "outputs": []
    },
    {
      "cell_type": "code",
      "source": [
        "xmean"
      ],
      "metadata": {
        "colab": {
          "base_uri": "https://localhost:8080/"
        },
        "id": "v_ZuivqxwKOQ",
        "outputId": "f4ae690e-2307-4759-9bb8-7cdbf8a39fcd"
      },
      "execution_count": 6,
      "outputs": [
        {
          "output_type": "execute_result",
          "data": {
            "text/plain": [
              "1.4636084109613239"
            ]
          },
          "metadata": {},
          "execution_count": 6
        }
      ]
    },
    {
      "cell_type": "code",
      "source": [
        "ymean"
      ],
      "metadata": {
        "colab": {
          "base_uri": "https://localhost:8080/"
        },
        "id": "WizBiv9SwNPl",
        "outputId": "501baf81-11f0-411b-e622-a8a785e59d4b"
      },
      "execution_count": 7,
      "outputs": [
        {
          "output_type": "execute_result",
          "data": {
            "text/plain": [
              "2.4335367575626234"
            ]
          },
          "metadata": {},
          "execution_count": 7
        }
      ]
    },
    {
      "cell_type": "markdown",
      "source": [
        "## Now, we need to calculate the terms needed for the numator and denominator of beta to satisfy the line equation formula."
      ],
      "metadata": {
        "id": "fTA2hwFYwUVk"
      }
    },
    {
      "cell_type": "code",
      "source": [
        "df['xycov'] = (df['X'] - xmean) * (df['y'] - ymean)\n",
        "df['xvar'] = (df['X'] - xmean)**2"
      ],
      "metadata": {
        "id": "iKnIMO80wV3l"
      },
      "execution_count": 8,
      "outputs": []
    },
    {
      "cell_type": "markdown",
      "source": [
        "### We can now calculate $\\beta$ and $\\alpha$.\n",
        "\n",
        "*This is the formula for each...*\n",
        "\n",
        "<font size=\"6\"><center>$\\alpha = \\frac{\\sum(y)\\sum(x^2) - \\sum(x)\\sum(xy)}{n\\sum(x^2) - (\\sum(x))^2}$</center>\n",
        "<br>\n",
        "<center>$\\beta = \\frac{n\\sum(xy) - \\sum(x)\\sum(y)}{n\\sum(x^2) - (\\sum(x))^2}$</center></font>"
      ],
      "metadata": {
        "id": "pSZ5Q-eUweAW"
      }
    },
    {
      "cell_type": "code",
      "source": [
        "beta = df['xycov'].sum() / df['xvar'].sum()\n",
        "alpha = ymean - (beta * xmean)\n",
        "print(f'alpha = {alpha}')\n",
        "print(f'beta = {beta}')"
      ],
      "metadata": {
        "colab": {
          "base_uri": "https://localhost:8080/"
        },
        "id": "qN4FtAYew-Qm",
        "outputId": "04bf1e22-d73a-4950-ac13-6bc25c823f5c"
      },
      "execution_count": 9,
      "outputs": [
        {
          "output_type": "stream",
          "name": "stdout",
          "text": [
            "alpha = 1.9734233360735431\n",
            "beta = 0.31436921108349586\n"
          ]
        }
      ]
    },
    {
      "cell_type": "markdown",
      "source": [
        "###Great, we now have an estimate for alpha and beta!\n",
        "\n",
        "<font size = 6><center>$y_{pred} = \\alpha + \\beta * X$</center></font></span>"
      ],
      "metadata": {
        "id": "YOAv151TxDQI"
      }
    },
    {
      "cell_type": "code",
      "source": [
        "ypred = alpha + (beta*X)"
      ],
      "metadata": {
        "id": "AKB7h_nrxOnQ"
      },
      "execution_count": 10,
      "outputs": []
    },
    {
      "cell_type": "markdown",
      "source": [
        "# Plotting our data and line\n",
        "### Let’s plot our prediction ypred against the actual values of y, \n",
        "### to get a better visual understanding of our model.\n",
        "\n",
        "# Plot regression against actual data"
      ],
      "metadata": {
        "id": "hsrdI7Vkx7MB"
      }
    },
    {
      "cell_type": "code",
      "source": [
        "plt.figure(figsize=(12, 6))\n",
        "plt.plot(X, ypred)     # regression line\n",
        "plt.plot(X, y, 'ro')   # scatter plot showing actual data\n",
        "plt.title('Actual vs Predicted')\n",
        "plt.xlabel('X')\n",
        "plt.ylabel('y')"
      ],
      "metadata": {
        "colab": {
          "base_uri": "https://localhost:8080/",
          "height": 428
        },
        "id": "TW_FqBMtyDCH",
        "outputId": "fa424e70-9657-4e0f-ee2e-db06c7c25246"
      },
      "execution_count": 11,
      "outputs": [
        {
          "output_type": "execute_result",
          "data": {
            "text/plain": [
              "Text(0, 0.5, 'y')"
            ]
          },
          "metadata": {},
          "execution_count": 11
        },
        {
          "output_type": "display_data",
          "data": {
            "text/plain": [
              "<Figure size 864x432 with 1 Axes>"
            ],
            "image/png": "[encoded data removed]"
          },
          "metadata": {
            "needs_background": "light"
          }
        }
      ]
    },
    {
      "cell_type": "markdown",
      "source": [
        "# PART II"
      ],
      "metadata": {
        "id": "fBoBdR0H4R3S"
      }
    },
    {
      "cell_type": "markdown",
      "source": [
        "# Linear Regression\n",
        "\n",
        "Linear regression is a classic method of fitting a line to a set of data. It can be extended to fitting any curve with linear coefficients."
      ],
      "metadata": {
        "id": "G_t35XC24R0l"
      }
    },
    {
      "cell_type": "markdown",
      "source": [
        "## Basic Algebra\n",
        "\n",
        "A line can be defined using this standard equation:\n",
        "\n",
        "$$y = a x + b$$\n",
        "\n",
        "Where $a$ is the slope and $b$ is the y-intercept. Given two sets of points $x_1, y_1$ and $x_2, y_2$, we have two equations with two unknowns. It is then possible to solve for $a$ and $b$ explicitly.\n",
        "\n",
        "For example, given the points 2, 1 and 3, 3, we can visualize these points:"
      ],
      "metadata": {
        "id": "eRc8HHys4RyG"
      }
    },
    {
      "cell_type": "code",
      "source": [
        "(x1, y1) = (2, 1) #TUPLE https://www.tutorialspoint.com/python/python_tuples.htm#\n",
        "(x2, y2) = (3, 3)\n",
        "\n",
        "plt.plot(x1, y1, 'ro')\n",
        "plt.plot(x2, y2, 'ro')\n",
        "plt.plot([x1, x2], [y1, y2])\n",
        "plt.show()"
      ],
      "metadata": {
        "colab": {
          "base_uri": "https://localhost:8080/",
          "height": 267
        },
        "id": "gXIh9fSJ4Rvi",
        "outputId": "82812d98-315d-45a8-89a5-a17af830d13d"
      },
      "execution_count": 12,
      "outputs": [
        {
          "output_type": "display_data",
          "data": {
            "text/plain": [
              "<Figure size 432x288 with 1 Axes>"
            ],
            "image/png": "[encoded data removed]"
          },
          "metadata": {
            "needs_background": "light"
          }
        }
      ]
    },
    {
      "cell_type": "markdown",
      "source": [
        "To solve for constants $a$ and $b$, we can write these two equations:\n",
        "\n",
        "$$1 = 2 a + b$$\n",
        "\n",
        "$$3 = 3 a + b$$\n",
        "\n",
        "Using basic algebra, we find the values for $a$ and $b$ are:\n",
        "\n",
        "$$a = 2$$\n",
        "\n",
        "$$b = -3$$\n",
        "\n",
        "Redrawing the graph with the y-intercept:"
      ],
      "metadata": {
        "id": "nUBkU7rU4RtC"
      }
    },
    {
      "cell_type": "code",
      "source": [
        "a = 2\n",
        "b = -3\n",
        "\n",
        "plt.plot(x1, y1, 'ro')\n",
        "plt.plot(x2, y2, 'ro')\n",
        "plt.plot([0, x2], [b, y2])\n",
        "plt.show()"
      ],
      "metadata": {
        "colab": {
          "base_uri": "https://localhost:8080/",
          "height": 267
        },
        "id": "_lOsmmCl4RnD",
        "outputId": "b6ee3ce8-03b8-470f-edb4-f70bdbdfdbf7"
      },
      "execution_count": 13,
      "outputs": [
        {
          "output_type": "display_data",
          "data": {
            "text/plain": [
              "<Figure size 432x288 with 1 Axes>"
            ],
            "image/png": "[encoded data removed]"
          },
          "metadata": {
            "needs_background": "light"
          }
        }
      ]
    },
    {
      "cell_type": "markdown",
      "source": [
        "## Linear Algebra\n",
        "\n",
        "The problem above can be abstracted using [linear algebra](https://en.wikipedia.org/wiki/Linear_algebra). The system of equations above can be rewritten in matrix form:\n",
        "\n",
        "$$1 = 2 a + b$$\n",
        "\n",
        "$$3 = 3 a + b$$\n",
        "\n",
        "$$ \\begin{bmatrix}\n",
        "1 \\\\\n",
        "3\n",
        "\\end{bmatrix} = \\begin{bmatrix}\n",
        "2 & 1 \\\\\n",
        "3 & 1 \\\\\n",
        "\\end{bmatrix} \\begin{bmatrix}\n",
        "a \\\\\n",
        "b\n",
        "\\end{bmatrix}$$\n",
        "\n",
        "This can be written more generally as matrix equation\n",
        "\n",
        "$$y = A v$$\n",
        "\n",
        "Where $y$ and $v$ are vectors and $A$ is a matrix:\n",
        "\n",
        "$$y = \\begin{bmatrix}\n",
        "1 \\\\\n",
        "3\n",
        "\\end{bmatrix}$$\n",
        "\n",
        "$$v = \\begin{bmatrix}\n",
        "a \\\\\n",
        "b\n",
        "\\end{bmatrix}$$\n",
        "\n",
        "$$A = \\begin{bmatrix}\n",
        "2 & 1 \\\\\n",
        "3 & 1 \\\\\n",
        "\\end{bmatrix}$$"
      ],
      "metadata": {
        "id": "JcjmbR1z4ReD"
      }
    },
    {
      "cell_type": "markdown",
      "source": [
        "To solve for $a$ and $b$, which is equivalent to solving for the vector $v$, consider how we would solve a simple equation such as\n",
        "\n",
        "$$1 = 2 x$$\n",
        "\n",
        "We could multiply both sides of the equation by the inverse of $2$, which is $2^{-1}$\n",
        "\n",
        "$$2^{-1} \\times 1 = 2^{-1} \\times 2 x$$\n",
        "\n",
        "$2 \\times 2^{-1}$ is just $1$, so\n",
        "\n",
        "$$x = \\frac{1}{2}$$"
      ],
      "metadata": {
        "id": "_HYNNJVY6Uoz"
      }
    },
    {
      "cell_type": "markdown",
      "source": [
        "By analogy, multiplying the matrix equation above by the inverse of $A$ or $A^{-1}$ on both sides would look like this\n",
        "\n",
        "$$y = A v$$\n",
        "\n",
        "$$A^{-1} y = A^{-1} A v$$\n",
        "\n",
        "The quantity $A^{-1} A$ becomes the [identity matrix](https://en.wikipedia.org/wiki/Identity_matrix), so the vector $v$ would then be\n",
        "\n",
        "$$v = A^{-1} y$$\n",
        "\n",
        "NumPy contains methods to compute the inverse of a matrix."
      ],
      "metadata": {
        "id": "HZmOE8dy6UyH"
      }
    },
    {
      "cell_type": "code",
      "source": [
        "# Create a 2x2 matrix\n",
        "\n",
        "A = np.array([[x1, 1], [x2, 1]])\n",
        "A"
      ],
      "metadata": {
        "colab": {
          "base_uri": "https://localhost:8080/"
        },
        "id": "L01EeFTP6U0o",
        "outputId": "300034d2-5e4c-4fae-db6a-526f3a30b382"
      },
      "execution_count": 14,
      "outputs": [
        {
          "output_type": "execute_result",
          "data": {
            "text/plain": [
              "array([[2, 1],\n",
              "       [3, 1]])"
            ]
          },
          "metadata": {},
          "execution_count": 14
        }
      ]
    },
    {
      "cell_type": "code",
      "source": [
        "# Compute the inverse of A\n",
        "\n",
        "Ainv = np.linalg.inv(A)\n",
        "Ainv"
      ],
      "metadata": {
        "colab": {
          "base_uri": "https://localhost:8080/"
        },
        "id": "yxR4yMrH6VCX",
        "outputId": "ba61205a-6776-458e-ea3b-dd141a1d33f3"
      },
      "execution_count": 15,
      "outputs": [
        {
          "output_type": "execute_result",
          "data": {
            "text/plain": [
              "array([[-1.,  1.],\n",
              "       [ 3., -2.]])"
            ]
          },
          "metadata": {},
          "execution_count": 15
        }
      ]
    },
    {
      "cell_type": "code",
      "source": [
        "# Multiply the inverse of A with A to confirm it produces the identity matrix\n",
        "\n",
        "Ainv.dot(A)"
      ],
      "metadata": {
        "colab": {
          "base_uri": "https://localhost:8080/"
        },
        "id": "Qo8CoKuj6VE9",
        "outputId": "306bdb0e-8682-4bd7-b8fb-18bf3884c03d"
      },
      "execution_count": 16,
      "outputs": [
        {
          "output_type": "execute_result",
          "data": {
            "text/plain": [
              "array([[1.0000000e+00, 0.0000000e+00],\n",
              "       [4.4408921e-16, 1.0000000e+00]])"
            ]
          },
          "metadata": {},
          "execution_count": 16
        }
      ]
    },
    {
      "cell_type": "markdown",
      "source": [
        "This is the value of the identity matrix with a very small round-off error:\n",
        "\n",
        "$$A^{-1} A = I = \\begin{bmatrix}\n",
        "1 & 0 \\\\\n",
        "0 & 1 \\\\\n",
        "\\end{bmatrix}$$\n",
        "\n",
        "Multiplying the vector $v$ with $A^{-1}$ on the left yields the vector $y$:"
      ],
      "metadata": {
        "id": "xsw5dHg76VJQ"
      }
    },
    {
      "cell_type": "code",
      "source": [
        "y = np.array([1, 3])\n",
        "v = Ainv.dot(y)\n",
        "v"
      ],
      "metadata": {
        "colab": {
          "base_uri": "https://localhost:8080/"
        },
        "id": "l2rQ7FyP6VL3",
        "outputId": "9c2501d0-624c-413c-f6b9-ff07d12aa06d"
      },
      "execution_count": 17,
      "outputs": [
        {
          "output_type": "execute_result",
          "data": {
            "text/plain": [
              "array([ 2., -3.])"
            ]
          },
          "metadata": {},
          "execution_count": 17
        }
      ]
    },
    {
      "cell_type": "markdown",
      "source": [
        "Which is the same result as before with basic algebra."
      ],
      "metadata": {
        "id": "ykEkT_ZJ6VOi"
      }
    },
    {
      "cell_type": "markdown",
      "source": [
        "## More Data\n",
        "\n",
        "Consider the case when more than two data points are available."
      ],
      "metadata": {
        "id": "lDDIi2OX7JiC"
      }
    },
    {
      "cell_type": "markdown",
      "source": [
        "This can be rewritten in matrix form:\n",
        "\n",
        "$$ \\begin{bmatrix}\n",
        "y_1 \\\\\n",
        "y_2 \\\\\n",
        "... \\\\\n",
        "y_n\n",
        "\\end{bmatrix} = \\begin{bmatrix}\n",
        "x_1 & 1 \\\\\n",
        "x_2 & 1 \\\\\n",
        "... \\\\\n",
        "x_n & 1\n",
        "\\end{bmatrix} \\begin{bmatrix}\n",
        "a \\\\\n",
        "b\n",
        "\\end{bmatrix}$$"
      ],
      "metadata": {
        "id": "wmyLbr817Jl5"
      }
    },
    {
      "cell_type": "markdown",
      "source": [
        "Introduce variables for simplification:\n",
        "\n",
        "$$ y = \\begin{bmatrix}\n",
        "y_1 \\\\\n",
        "y_2 \\\\\n",
        "... \\\\\n",
        "y_n\n",
        "\\end{bmatrix}$$\n",
        "\n",
        "$$ A = \\begin{bmatrix}\n",
        "x_1 & 1 \\\\\n",
        "x_2 & 1 \\\\\n",
        "... \\\\\n",
        "x_n & 1\n",
        "\\end{bmatrix}$$\n",
        "\n",
        "$$ v = \\begin{bmatrix}\n",
        "a \\\\\n",
        "b\n",
        "\\end{bmatrix}$$"
      ],
      "metadata": {
        "id": "zXuQzp8I7Joi"
      }
    },
    {
      "cell_type": "markdown",
      "source": [
        "Substitute variables above to produce a simplifed form:\n",
        "\n",
        "$$ y = A v$$"
      ],
      "metadata": {
        "id": "XjBg9Q6A7JrH"
      }
    },
    {
      "cell_type": "markdown",
      "source": [
        "If $A$ is a square matrix, i.e. $n = 2$, $a$ and $b$ can be determined exactly:\n",
        "\n",
        "$$ \\begin{bmatrix}\n",
        "a \\\\\n",
        "b\n",
        "\\end{bmatrix} = v = A^{-1} y$$"
      ],
      "metadata": {
        "id": "Q98V63jz7JtB"
      }
    },
    {
      "cell_type": "markdown",
      "source": [
        "In the case where $n > 2$, $A$ is not square and cannot be inverted. One solution is to compute a pseudo-inverse by multiplying $A$ by it's transpose $A^T$, which will yield a square matrix on the right hand side:\n",
        "\n",
        "$$ A^T y = A^T A v$$"
      ],
      "metadata": {
        "id": "r1CT0pD47Jvq"
      }
    },
    {
      "cell_type": "markdown",
      "source": [
        "The matrix $A^T A$ on the right can be eliminated by multiplying by it's inverse $(A^T A)^{-1}$:\n",
        "\n",
        "$$ (A^T A)^{-1} A^T y = (A^T A)^{-1} (A^T A) v$$"
      ],
      "metadata": {
        "id": "0lhO7l5m7Jxp"
      }
    },
    {
      "cell_type": "markdown",
      "source": [
        "Simplifying yields the result for $a$ and $b$:\n",
        "\n",
        "$$ v = \\begin{bmatrix}\n",
        "a \\\\\n",
        "b\n",
        "\\end{bmatrix} = (A^T A)^{-1} A^T y$$"
      ],
      "metadata": {
        "id": "5V429JkW7J0B"
      }
    },
    {
      "cell_type": "markdown",
      "source": [
        "## Numerical Example\n",
        "\n",
        "The following is an example with real values."
      ],
      "metadata": {
        "id": "LSJ2dC_27J2T"
      }
    },
    {
      "cell_type": "code",
      "source": [
        "x = np.array([-0.40033681,  1.12710083,  1.51535892,  3.13012734,  3.07744676,\n",
        "        4.25275393,  6.535855  ,  4.23343874,  8.048823  ,  7.38773014,\n",
        "        9.91933651, 12.69142755, 11.61959316, 12.20667906, 13.98048109,\n",
        "       16.07602619, 16.31351797, 17.31102756, 17.74511659, 17.66863483])\n",
        "\n",
        "y = np.array([ 0.7261771 ,  2.86206199, -0.2489528 ,  0.63325248,  4.49244568,\n",
        "        5.30531409, 13.6101148 ,  8.48395548, 10.42996366, 14.74172737,\n",
        "       15.88897483, 23.76571743, 23.61602269, 20.17880228, 25.85779471,\n",
        "       30.11114371, 26.88735809, 28.57977723, 30.99383456, 33.03676545])\n",
        "\n",
        "plt.scatter(x, y, color='red')\n",
        "plt.show()"
      ],
      "metadata": {
        "colab": {
          "base_uri": "https://localhost:8080/",
          "height": 267
        },
        "id": "bpj8IfSW7J4i",
        "outputId": "a9574ea6-fafd-4bb4-e766-cc30b827fffb"
      },
      "execution_count": 18,
      "outputs": [
        {
          "output_type": "display_data",
          "data": {
            "text/plain": [
              "<Figure size 432x288 with 1 Axes>"
            ],
            "image/png": "[encoded data removed]"
          },
          "metadata": {
            "needs_background": "light"
          }
        }
      ]
    },
    {
      "cell_type": "markdown",
      "source": [
        "Prepare matrix A of the form\n",
        "\n",
        "$$A = \\begin{bmatrix}\n",
        "x_1 & 1 \\\\\n",
        "x_2 & 1 \\\\\n",
        "... \\\\\n",
        "x_n & 1\n",
        "\\end{bmatrix}$$"
      ],
      "metadata": {
        "id": "tXHsOORR7J6-"
      }
    },
    {
      "cell_type": "code",
      "source": [
        "x"
      ],
      "metadata": {
        "colab": {
          "base_uri": "https://localhost:8080/"
        },
        "id": "wEBKkqmd8OXR",
        "outputId": "de12a8e8-c8b2-43c5-9ad7-9e2c9b6964f6"
      },
      "execution_count": 20,
      "outputs": [
        {
          "output_type": "execute_result",
          "data": {
            "text/plain": [
              "array([-0.40033681,  1.12710083,  1.51535892,  3.13012734,  3.07744676,\n",
              "        4.25275393,  6.535855  ,  4.23343874,  8.048823  ,  7.38773014,\n",
              "        9.91933651, 12.69142755, 11.61959316, 12.20667906, 13.98048109,\n",
              "       16.07602619, 16.31351797, 17.31102756, 17.74511659, 17.66863483])"
            ]
          },
          "metadata": {},
          "execution_count": 20
        }
      ]
    },
    {
      "cell_type": "code",
      "source": [
        "ones = np.ones((len(x), 1))\n",
        "ones"
      ],
      "metadata": {
        "colab": {
          "base_uri": "https://localhost:8080/"
        },
        "id": "JoyGJsNc87bz",
        "outputId": "711e98c3-5e6c-4ee2-cf38-e9353992ab95"
      },
      "execution_count": 22,
      "outputs": [
        {
          "output_type": "execute_result",
          "data": {
            "text/plain": [
              "array([[1.],\n",
              "       [1.],\n",
              "       [1.],\n",
              "       [1.],\n",
              "       [1.],\n",
              "       [1.],\n",
              "       [1.],\n",
              "       [1.],\n",
              "       [1.],\n",
              "       [1.],\n",
              "       [1.],\n",
              "       [1.],\n",
              "       [1.],\n",
              "       [1.],\n",
              "       [1.],\n",
              "       [1.],\n",
              "       [1.],\n",
              "       [1.],\n",
              "       [1.],\n",
              "       [1.]])"
            ]
          },
          "metadata": {},
          "execution_count": 22
        }
      ]
    },
    {
      "cell_type": "code",
      "source": [
        "x_matrix = x.reshape((-1, 1))\n",
        "ones = np.ones((len(x), 1))\n",
        "A = np.append(x_matrix, ones, axis=1)\n",
        "A"
      ],
      "metadata": {
        "colab": {
          "base_uri": "https://localhost:8080/"
        },
        "id": "jaBUvhZc8OfR",
        "outputId": "e02bf452-6edb-4c8b-9110-d03eb6c1ef79"
      },
      "execution_count": 21,
      "outputs": [
        {
          "output_type": "execute_result",
          "data": {
            "text/plain": [
              "array([[-0.40033681,  1.        ],\n",
              "       [ 1.12710083,  1.        ],\n",
              "       [ 1.51535892,  1.        ],\n",
              "       [ 3.13012734,  1.        ],\n",
              "       [ 3.07744676,  1.        ],\n",
              "       [ 4.25275393,  1.        ],\n",
              "       [ 6.535855  ,  1.        ],\n",
              "       [ 4.23343874,  1.        ],\n",
              "       [ 8.048823  ,  1.        ],\n",
              "       [ 7.38773014,  1.        ],\n",
              "       [ 9.91933651,  1.        ],\n",
              "       [12.69142755,  1.        ],\n",
              "       [11.61959316,  1.        ],\n",
              "       [12.20667906,  1.        ],\n",
              "       [13.98048109,  1.        ],\n",
              "       [16.07602619,  1.        ],\n",
              "       [16.31351797,  1.        ],\n",
              "       [17.31102756,  1.        ],\n",
              "       [17.74511659,  1.        ],\n",
              "       [17.66863483,  1.        ]])"
            ]
          },
          "metadata": {},
          "execution_count": 21
        }
      ]
    },
    {
      "cell_type": "markdown",
      "source": [
        "Compute the pseudo-inverse\n",
        "\n",
        "$$(A^T A)^{-1} A^T$$"
      ],
      "metadata": {
        "id": "ju2DF4Gm8Oh0"
      }
    },
    {
      "cell_type": "code",
      "source": [
        "At = A.T\n",
        "pseudo_inv = np.linalg.inv(At.dot(A)).dot(At)\n",
        "pseudo_inv"
      ],
      "metadata": {
        "colab": {
          "base_uri": "https://localhost:8080/"
        },
        "id": "cdH_efW18OkB",
        "outputId": "809a675f-a574-4ef9-a04f-96e2375dc645"
      },
      "execution_count": 23,
      "outputs": [
        {
          "output_type": "execute_result",
          "data": {
            "text/plain": [
              "array([[-0.01354453, -0.01139449, -0.01084797, -0.008575  , -0.00864916,\n",
              "        -0.00699478, -0.00378106, -0.00702197, -0.00165139, -0.00258195,\n",
              "         0.00098157,  0.0048836 ,  0.00337487,  0.00420126,  0.00669809,\n",
              "         0.0096478 ,  0.0099821 ,  0.01138621,  0.01199723,  0.01188958],\n",
              "       [ 0.17490775,  0.15508006,  0.15004008,  0.12907875,  0.1297626 ,\n",
              "         0.11450593,  0.08486897,  0.11475666,  0.06522911,  0.07381077,\n",
              "         0.04094796,  0.00496341,  0.01887691,  0.01125594, -0.0117698 ,\n",
              "        -0.0389721 , -0.04205498, -0.05500366, -0.06063858, -0.05964577]])"
            ]
          },
          "metadata": {},
          "execution_count": 23
        }
      ]
    },
    {
      "cell_type": "markdown",
      "source": [
        "Compute $a$ and $b$ by multiplying the pseudo-inverse times $y$\n",
        "\n",
        "$$\\begin{bmatrix}\n",
        "a \\\\\n",
        "b\n",
        "\\end{bmatrix} = (A^T A)^{-1} A^T y$$"
      ],
      "metadata": {
        "id": "2daVdKaS9FX4"
      }
    },
    {
      "cell_type": "code",
      "source": [
        "(a, b) = pseudo_inv.dot(y)\n",
        "\n",
        "x_points = [0, 20]\n",
        "y_points = [a*x + b for x in x_points]\n",
        "plt.scatter(x, y, color='red')\n",
        "plt.plot(x_points, y_points)\n",
        "plt.show()"
      ],
      "metadata": {
        "colab": {
          "base_uri": "https://localhost:8080/",
          "height": 267
        },
        "id": "pjYFtOXz8OmC",
        "outputId": "6601bbdc-a9d9-4594-ffd7-fdae73c9c75b"
      },
      "execution_count": 24,
      "outputs": [
        {
          "output_type": "display_data",
          "data": {
            "text/plain": [
              "<Figure size 432x288 with 1 Axes>"
            ],
            "image/png": "[encoded data removed]"
          },
          "metadata": {
            "needs_background": "light"
          }
        }
      ]
    },
    {
      "cell_type": "markdown",
      "source": [
        "## Model Accuracy\n",
        "\n",
        "The accuracy of the model above can be measured by computing the mean squared error between predicted and training values:\n",
        "\n",
        "$$ \\epsilon = \\frac{1}{m} \\sum_{i=1}^{m} (a x_i + b - y_i)^2 $$\n",
        "\n",
        "The prediction error can be computed in the same way, but using the test samples instead of the training samples.\n",
        "\n",
        "Test error can be different and training error, for example:\n",
        "\n",
        "- If training error is high, this is a case of __high bias__. This generally means the model is not powerful enough to fit the training data.\n",
        "- If the training error is low, but the test error is high, this is a case of __high variance__. This usually often means the model is overfitting and does not generalize well with data it has not seen."
      ],
      "metadata": {
        "id": "wZ8TRc728OoW"
      }
    },
    {
      "cell_type": "code",
      "source": [
        "epsilon = ((a*x + b - y)**2).mean()\n",
        "math.sqrt(epsilon)"
      ],
      "metadata": {
        "colab": {
          "base_uri": "https://localhost:8080/"
        },
        "id": "pj_XAbZl8Oq0",
        "outputId": "96b29c01-cfd3-4a73-f6da-c0417668c294"
      },
      "execution_count": 26,
      "outputs": [
        {
          "output_type": "execute_result",
          "data": {
            "text/plain": [
              "2.125412002520472"
            ]
          },
          "metadata": {},
          "execution_count": 26
        }
      ]
    },
    {
      "cell_type": "markdown",
      "source": [
        "## Extending the Model\n",
        "\n",
        "In the case where a straight line will not accurately fit the available data, a more complex model can be used. For example, a quadratic model might be more suitable:\n",
        "\n",
        "$$ y_i = a {x_i}^2 + b x_i + c \\tag{10}$$"
      ],
      "metadata": {
        "id": "k6ZQvMms8OtI"
      }
    },
    {
      "cell_type": "markdown",
      "source": [
        "In matrix form:\n",
        "\n",
        "$$ \\begin{bmatrix}\n",
        "y_1 \\\\\n",
        "y_2 \\\\\n",
        "... \\\\\n",
        "y_n\n",
        "\\end{bmatrix} = \\begin{bmatrix}\n",
        "{x_1}^2 & x_1 & 1 \\\\\n",
        "{x_2}^2 & x_2 & 1 \\\\\n",
        "... \\\\\n",
        "{x_n}^2 & x_n & 1\n",
        "\\end{bmatrix} \\begin{bmatrix}\n",
        "a \\\\\n",
        "b \\\\\n",
        "c\n",
        "\\end{bmatrix} \\tag{11}$$"
      ],
      "metadata": {
        "id": "JDU-rKDL8OvT"
      }
    },
    {
      "cell_type": "markdown",
      "source": [
        "In this case the matrix $A$ is:\n",
        "\n",
        "$$ A = \\begin{bmatrix}\n",
        "{x_1}^2 & x_1 & 1 \\\\\n",
        "{x_2}^2 & x_2 & 1 \\\\\n",
        "... \\\\\n",
        "{x_n}^2 & x_n & 1\n",
        "\\end{bmatrix}\\tag{12}$$"
      ],
      "metadata": {
        "id": "quctSYM58Ox7"
      }
    },
    {
      "cell_type": "markdown",
      "source": [
        "The same procedure can be used to find $a$, $b$, and $c$:\n",
        "\n",
        "$$ \\begin{bmatrix}\n",
        "a \\\\\n",
        "b \\\\\n",
        "c\n",
        "\\end{bmatrix} = (A^T A)^{-1} A^T y \\tag{13}$$"
      ],
      "metadata": {
        "id": "St21gBB38O0o"
      }
    }
  ]
}