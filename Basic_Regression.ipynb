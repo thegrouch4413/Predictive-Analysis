{
  "nbformat": 4,
  "nbformat_minor": 0,
  "metadata": {
    "colab": {
      "name": "Basic Regression.ipynb",
      "provenance": [],
      "authorship_tag": "ABX9TyNl54cDGYsWL0aeY92+Ek7b",
      "include_colab_link": true
    },
    "kernelspec": {
      "name": "python3",
      "display_name": "Python 3"
    },
    "language_info": {
      "name": "python"
    }
  },
  "cells": [
    {
      "cell_type": "markdown",
      "metadata": {
        "id": "view-in-github",
        "colab_type": "text"
      },
      "source": [
        "<a href=\"https://colab.research.google.com/github/thegrouch4413/Predictive-Analysis/blob/main/Basic_Regression.ipynb\" target=\"_parent\"><img src=\"https://colab.research.google.com/assets/colab-badge.svg\" alt=\"Open In Colab\"/></a>"
      ]
    },
    {
      "cell_type": "markdown",
      "source": [
        "# Regression Analysis\n",
        "Regression analysis refers to the use of statistical methods to estimate the relationships between one or more independent variables and dependent variables.\n",
        "\n",
        "Regression is a powerful tool as it is used to assess the strength of the relationship between two or more variables, and then it would be used for modeling the relationship between those variables in the future.\n",
        "\n",
        "source"
      ],
      "metadata": {
        "id": "niJMgKAZZC6n"
      }
    },
    {
      "cell_type": "markdown",
      "source": [
        "#Building a basic regression model.\n",
        "\n",
        "We know that a Linear regression is a way to model the relationship between two variables. We will use the equation as the slope formula. The equation has the form:\n",
        "\n",
        "Y=α+βX \n",
        "where Y is the dependent variable (that’s the variable on the vertical or Y axis).\n",
        "\n",
        "X is the independent variable (i.e. it is plotted on the Horizontal or X axis).\n",
        "\n",
        "b is the slope of the line and a is the y-intercept."
      ],
      "metadata": {
        "id": "pbLWZdLdrfAe"
      }
    }
  ]
}