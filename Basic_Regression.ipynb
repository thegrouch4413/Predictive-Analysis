{
  "nbformat": 4,
  "nbformat_minor": 0,
  "metadata": {
    "colab": {
      "name": "Basic Regression.ipynb",
      "provenance": [],
      "authorship_tag": "ABX9TyPxiuvnW01cBgxRXt0gnftW",
      "include_colab_link": true
    },
    "kernelspec": {
      "name": "python3",
      "display_name": "Python 3"
    },
    "language_info": {
      "name": "python"
    }
  },
  "cells": [
    {
      "cell_type": "markdown",
      "metadata": {
        "id": "view-in-github",
        "colab_type": "text"
      },
      "source": [
        "<a href=\"https://colab.research.google.com/github/thegrouch4413/Predictive-Analysis/blob/main/Basic_Regression.ipynb\" target=\"_parent\"><img src=\"https://colab.research.google.com/assets/colab-badge.svg\" alt=\"Open In Colab\"/></a>"
      ]
    },
    {
      "cell_type": "markdown",
      "source": [
        "# Regression Analysis\n",
        "Regression analysis refers to the use of statistical methods to estimate the relationships between one or more independent variables and dependent variables.\n",
        "\n",
        "Regression is a powerful tool as it is used to assess the strength of the relationship between two or more variables, and then it would be used for modeling the relationship between those variables in the future.\n",
        "\n",
        "source"
      ],
      "metadata": {
        "id": "niJMgKAZZC6n"
      }
    }
  ]
}